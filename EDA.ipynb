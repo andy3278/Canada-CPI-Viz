{
 "cells": [
  {
   "cell_type": "markdown",
   "metadata": {},
   "source": [
    "# Canada CPI Visualization"
   ]
  },
  {
   "cell_type": "code",
   "execution_count": 6,
   "metadata": {},
   "outputs": [],
   "source": [
    "# import libraries\n",
    "import pandas as pd\n",
    "import numpy as np\n",
    "import seaborn as sns\n",
    "import matplotlib.pyplot as plt"
   ]
  },
  {
   "cell_type": "code",
   "execution_count": 2,
   "metadata": {},
   "outputs": [
    {
     "data": {
      "text/html": [
       "<div>\n",
       "<style scoped>\n",
       "    .dataframe tbody tr th:only-of-type {\n",
       "        vertical-align: middle;\n",
       "    }\n",
       "\n",
       "    .dataframe tbody tr th {\n",
       "        vertical-align: top;\n",
       "    }\n",
       "\n",
       "    .dataframe thead th {\n",
       "        text-align: right;\n",
       "    }\n",
       "</style>\n",
       "<table border=\"1\" class=\"dataframe\">\n",
       "  <thead>\n",
       "    <tr style=\"text-align: right;\">\n",
       "      <th></th>\n",
       "      <th>REF_DATE</th>\n",
       "      <th>GEO</th>\n",
       "      <th>DGUID</th>\n",
       "      <th>Products and product groups</th>\n",
       "      <th>UOM</th>\n",
       "      <th>UOM_ID</th>\n",
       "      <th>SCALAR_FACTOR</th>\n",
       "      <th>SCALAR_ID</th>\n",
       "      <th>VECTOR</th>\n",
       "      <th>COORDINATE</th>\n",
       "      <th>VALUE</th>\n",
       "      <th>STATUS</th>\n",
       "      <th>SYMBOL</th>\n",
       "      <th>TERMINATED</th>\n",
       "      <th>DECIMALS</th>\n",
       "    </tr>\n",
       "  </thead>\n",
       "  <tbody>\n",
       "    <tr>\n",
       "      <th>0</th>\n",
       "      <td>2018-07</td>\n",
       "      <td>Canada</td>\n",
       "      <td>2016A000011124</td>\n",
       "      <td>All-items</td>\n",
       "      <td>2002=100</td>\n",
       "      <td>17</td>\n",
       "      <td>units</td>\n",
       "      <td>0</td>\n",
       "      <td>v41690973</td>\n",
       "      <td>2.2</td>\n",
       "      <td>134.3</td>\n",
       "      <td>NaN</td>\n",
       "      <td>NaN</td>\n",
       "      <td>NaN</td>\n",
       "      <td>1</td>\n",
       "    </tr>\n",
       "    <tr>\n",
       "      <th>1</th>\n",
       "      <td>2018-08</td>\n",
       "      <td>Canada</td>\n",
       "      <td>2016A000011124</td>\n",
       "      <td>All-items</td>\n",
       "      <td>2002=100</td>\n",
       "      <td>17</td>\n",
       "      <td>units</td>\n",
       "      <td>0</td>\n",
       "      <td>v41690973</td>\n",
       "      <td>2.2</td>\n",
       "      <td>134.2</td>\n",
       "      <td>NaN</td>\n",
       "      <td>NaN</td>\n",
       "      <td>NaN</td>\n",
       "      <td>1</td>\n",
       "    </tr>\n",
       "    <tr>\n",
       "      <th>2</th>\n",
       "      <td>2018-09</td>\n",
       "      <td>Canada</td>\n",
       "      <td>2016A000011124</td>\n",
       "      <td>All-items</td>\n",
       "      <td>2002=100</td>\n",
       "      <td>17</td>\n",
       "      <td>units</td>\n",
       "      <td>0</td>\n",
       "      <td>v41690973</td>\n",
       "      <td>2.2</td>\n",
       "      <td>133.7</td>\n",
       "      <td>NaN</td>\n",
       "      <td>NaN</td>\n",
       "      <td>NaN</td>\n",
       "      <td>1</td>\n",
       "    </tr>\n",
       "    <tr>\n",
       "      <th>3</th>\n",
       "      <td>2018-10</td>\n",
       "      <td>Canada</td>\n",
       "      <td>2016A000011124</td>\n",
       "      <td>All-items</td>\n",
       "      <td>2002=100</td>\n",
       "      <td>17</td>\n",
       "      <td>units</td>\n",
       "      <td>0</td>\n",
       "      <td>v41690973</td>\n",
       "      <td>2.2</td>\n",
       "      <td>134.1</td>\n",
       "      <td>NaN</td>\n",
       "      <td>NaN</td>\n",
       "      <td>NaN</td>\n",
       "      <td>1</td>\n",
       "    </tr>\n",
       "    <tr>\n",
       "      <th>4</th>\n",
       "      <td>2018-11</td>\n",
       "      <td>Canada</td>\n",
       "      <td>2016A000011124</td>\n",
       "      <td>All-items</td>\n",
       "      <td>2002=100</td>\n",
       "      <td>17</td>\n",
       "      <td>units</td>\n",
       "      <td>0</td>\n",
       "      <td>v41690973</td>\n",
       "      <td>2.2</td>\n",
       "      <td>133.5</td>\n",
       "      <td>NaN</td>\n",
       "      <td>NaN</td>\n",
       "      <td>NaN</td>\n",
       "      <td>1</td>\n",
       "    </tr>\n",
       "  </tbody>\n",
       "</table>\n",
       "</div>"
      ],
      "text/plain": [
       "  REF_DATE     GEO           DGUID Products and product groups       UOM  \\\n",
       "0  2018-07  Canada  2016A000011124                   All-items  2002=100   \n",
       "1  2018-08  Canada  2016A000011124                   All-items  2002=100   \n",
       "2  2018-09  Canada  2016A000011124                   All-items  2002=100   \n",
       "3  2018-10  Canada  2016A000011124                   All-items  2002=100   \n",
       "4  2018-11  Canada  2016A000011124                   All-items  2002=100   \n",
       "\n",
       "   UOM_ID SCALAR_FACTOR  SCALAR_ID     VECTOR  COORDINATE  VALUE  STATUS  \\\n",
       "0      17         units          0  v41690973         2.2  134.3     NaN   \n",
       "1      17         units          0  v41690973         2.2  134.2     NaN   \n",
       "2      17         units          0  v41690973         2.2  133.7     NaN   \n",
       "3      17         units          0  v41690973         2.2  134.1     NaN   \n",
       "4      17         units          0  v41690973         2.2  133.5     NaN   \n",
       "\n",
       "   SYMBOL  TERMINATED  DECIMALS  \n",
       "0     NaN         NaN         1  \n",
       "1     NaN         NaN         1  \n",
       "2     NaN         NaN         1  \n",
       "3     NaN         NaN         1  \n",
       "4     NaN         NaN         1  "
      ]
     },
     "execution_count": 2,
     "metadata": {},
     "output_type": "execute_result"
    }
   ],
   "source": [
    "df_cad = pd.read_csv('./data/Canada-CPI-2018-2023.csv')\n",
    "df_cad.head()"
   ]
  },
  {
   "cell_type": "code",
   "execution_count": 3,
   "metadata": {},
   "outputs": [
    {
     "data": {
      "text/html": [
       "<div>\n",
       "<style scoped>\n",
       "    .dataframe tbody tr th:only-of-type {\n",
       "        vertical-align: middle;\n",
       "    }\n",
       "\n",
       "    .dataframe tbody tr th {\n",
       "        vertical-align: top;\n",
       "    }\n",
       "\n",
       "    .dataframe thead th {\n",
       "        text-align: right;\n",
       "    }\n",
       "</style>\n",
       "<table border=\"1\" class=\"dataframe\">\n",
       "  <thead>\n",
       "    <tr style=\"text-align: right;\">\n",
       "      <th></th>\n",
       "      <th>REF_DATE</th>\n",
       "      <th>GEO</th>\n",
       "      <th>DGUID</th>\n",
       "      <th>Products and product groups</th>\n",
       "      <th>UOM</th>\n",
       "      <th>UOM_ID</th>\n",
       "      <th>SCALAR_FACTOR</th>\n",
       "      <th>SCALAR_ID</th>\n",
       "      <th>VECTOR</th>\n",
       "      <th>COORDINATE</th>\n",
       "      <th>VALUE</th>\n",
       "      <th>STATUS</th>\n",
       "      <th>SYMBOL</th>\n",
       "      <th>TERMINATED</th>\n",
       "      <th>DECIMALS</th>\n",
       "    </tr>\n",
       "  </thead>\n",
       "  <tbody>\n",
       "    <tr>\n",
       "      <th>0</th>\n",
       "      <td>2018-07</td>\n",
       "      <td>Ontario</td>\n",
       "      <td>2016A000235</td>\n",
       "      <td>All-items</td>\n",
       "      <td>2002=100</td>\n",
       "      <td>17</td>\n",
       "      <td>units</td>\n",
       "      <td>0</td>\n",
       "      <td>v41691919</td>\n",
       "      <td>14.2</td>\n",
       "      <td>136.0</td>\n",
       "      <td>NaN</td>\n",
       "      <td>NaN</td>\n",
       "      <td>NaN</td>\n",
       "      <td>1</td>\n",
       "    </tr>\n",
       "    <tr>\n",
       "      <th>1</th>\n",
       "      <td>2018-08</td>\n",
       "      <td>Ontario</td>\n",
       "      <td>2016A000235</td>\n",
       "      <td>All-items</td>\n",
       "      <td>2002=100</td>\n",
       "      <td>17</td>\n",
       "      <td>units</td>\n",
       "      <td>0</td>\n",
       "      <td>v41691919</td>\n",
       "      <td>14.2</td>\n",
       "      <td>135.9</td>\n",
       "      <td>NaN</td>\n",
       "      <td>NaN</td>\n",
       "      <td>NaN</td>\n",
       "      <td>1</td>\n",
       "    </tr>\n",
       "    <tr>\n",
       "      <th>2</th>\n",
       "      <td>2018-09</td>\n",
       "      <td>Ontario</td>\n",
       "      <td>2016A000235</td>\n",
       "      <td>All-items</td>\n",
       "      <td>2002=100</td>\n",
       "      <td>17</td>\n",
       "      <td>units</td>\n",
       "      <td>0</td>\n",
       "      <td>v41691919</td>\n",
       "      <td>14.2</td>\n",
       "      <td>135.2</td>\n",
       "      <td>NaN</td>\n",
       "      <td>NaN</td>\n",
       "      <td>NaN</td>\n",
       "      <td>1</td>\n",
       "    </tr>\n",
       "    <tr>\n",
       "      <th>3</th>\n",
       "      <td>2018-10</td>\n",
       "      <td>Ontario</td>\n",
       "      <td>2016A000235</td>\n",
       "      <td>All-items</td>\n",
       "      <td>2002=100</td>\n",
       "      <td>17</td>\n",
       "      <td>units</td>\n",
       "      <td>0</td>\n",
       "      <td>v41691919</td>\n",
       "      <td>14.2</td>\n",
       "      <td>135.6</td>\n",
       "      <td>NaN</td>\n",
       "      <td>NaN</td>\n",
       "      <td>NaN</td>\n",
       "      <td>1</td>\n",
       "    </tr>\n",
       "    <tr>\n",
       "      <th>4</th>\n",
       "      <td>2018-11</td>\n",
       "      <td>Ontario</td>\n",
       "      <td>2016A000235</td>\n",
       "      <td>All-items</td>\n",
       "      <td>2002=100</td>\n",
       "      <td>17</td>\n",
       "      <td>units</td>\n",
       "      <td>0</td>\n",
       "      <td>v41691919</td>\n",
       "      <td>14.2</td>\n",
       "      <td>135.1</td>\n",
       "      <td>NaN</td>\n",
       "      <td>NaN</td>\n",
       "      <td>NaN</td>\n",
       "      <td>1</td>\n",
       "    </tr>\n",
       "  </tbody>\n",
       "</table>\n",
       "</div>"
      ],
      "text/plain": [
       "  REF_DATE      GEO        DGUID Products and product groups       UOM  \\\n",
       "0  2018-07  Ontario  2016A000235                   All-items  2002=100   \n",
       "1  2018-08  Ontario  2016A000235                   All-items  2002=100   \n",
       "2  2018-09  Ontario  2016A000235                   All-items  2002=100   \n",
       "3  2018-10  Ontario  2016A000235                   All-items  2002=100   \n",
       "4  2018-11  Ontario  2016A000235                   All-items  2002=100   \n",
       "\n",
       "   UOM_ID SCALAR_FACTOR  SCALAR_ID     VECTOR  COORDINATE  VALUE  STATUS  \\\n",
       "0      17         units          0  v41691919        14.2  136.0     NaN   \n",
       "1      17         units          0  v41691919        14.2  135.9     NaN   \n",
       "2      17         units          0  v41691919        14.2  135.2     NaN   \n",
       "3      17         units          0  v41691919        14.2  135.6     NaN   \n",
       "4      17         units          0  v41691919        14.2  135.1     NaN   \n",
       "\n",
       "   SYMBOL  TERMINATED  DECIMALS  \n",
       "0     NaN         NaN         1  \n",
       "1     NaN         NaN         1  \n",
       "2     NaN         NaN         1  \n",
       "3     NaN         NaN         1  \n",
       "4     NaN         NaN         1  "
      ]
     },
     "execution_count": 3,
     "metadata": {},
     "output_type": "execute_result"
    }
   ],
   "source": [
    "df_gat = pd.read_csv('./data/Ontario-CPI-2018-2023.csv')\n",
    "df_gat.head()"
   ]
  },
  {
   "cell_type": "markdown",
   "metadata": {},
   "source": [
    "## Let's take a look at Canada CPI changes first"
   ]
  },
  {
   "cell_type": "code",
   "execution_count": 4,
   "metadata": {},
   "outputs": [
    {
     "name": "stdout",
     "output_type": "stream",
     "text": [
      "<class 'pandas.core.frame.DataFrame'>\n",
      "RangeIndex: 915 entries, 0 to 914\n",
      "Data columns (total 15 columns):\n",
      " #   Column                       Non-Null Count  Dtype  \n",
      "---  ------                       --------------  -----  \n",
      " 0   REF_DATE                     915 non-null    object \n",
      " 1   GEO                          915 non-null    object \n",
      " 2   DGUID                        915 non-null    object \n",
      " 3   Products and product groups  915 non-null    object \n",
      " 4   UOM                          915 non-null    object \n",
      " 5   UOM_ID                       915 non-null    int64  \n",
      " 6   SCALAR_FACTOR                915 non-null    object \n",
      " 7   SCALAR_ID                    915 non-null    int64  \n",
      " 8   VECTOR                       915 non-null    object \n",
      " 9   COORDINATE                   915 non-null    float64\n",
      " 10  VALUE                        915 non-null    float64\n",
      " 11  STATUS                       0 non-null      float64\n",
      " 12  SYMBOL                       0 non-null      float64\n",
      " 13  TERMINATED                   0 non-null      float64\n",
      " 14  DECIMALS                     915 non-null    int64  \n",
      "dtypes: float64(5), int64(3), object(7)\n",
      "memory usage: 107.4+ KB\n"
     ]
    }
   ],
   "source": [
    "df_cad.info()"
   ]
  },
  {
   "cell_type": "code",
   "execution_count": 10,
   "metadata": {},
   "outputs": [
    {
     "data": {
      "text/plain": [
       "0   2018-07-01\n",
       "1   2018-08-01\n",
       "2   2018-09-01\n",
       "3   2018-10-01\n",
       "4   2018-11-01\n",
       "Name: REF_DATE, dtype: datetime64[ns]"
      ]
     },
     "execution_count": 10,
     "metadata": {},
     "output_type": "execute_result"
    }
   ],
   "source": [
    "# change REF_DATE datatype to datetime\n",
    "df_cad['REF_DATE'] = pd.to_datetime(df_cad['REF_DATE'])\n",
    "df_gat['REF_DATE'] = pd.to_datetime(df_gat['REF_DATE'])\n",
    "df_cad['REF_DATE'].head()"
   ]
  },
  {
   "cell_type": "code",
   "execution_count": 11,
   "metadata": {},
   "outputs": [
    {
     "data": {
      "image/png": "[encoded data removed]",
      "text/plain": [
       "<Figure size 432x288 with 1 Axes>"
      ]
     },
     "metadata": {
      "needs_background": "light"
     },
     "output_type": "display_data"
    }
   ],
   "source": [
    "# plot canada cpi over time\n",
    "sns.lineplot(x='REF_DATE', y='VALUE', data=df_cad)\n",
    "plt.title('Canada CPI over time')\n",
    "plt.show()"
   ]
  },
  {
   "cell_type": "code",
   "execution_count": 14,
   "metadata": {},
   "outputs": [
    {
     "data": {
      "image/png": "[encoded data removed]",
      "text/plain": [
       "<Figure size 432x288 with 1 Axes>"
      ]
     },
     "metadata": {
      "needs_background": "light"
     },
     "output_type": "display_data"
    }
   ],
   "source": [
    "# plot Ontario cpi over time\n",
    "sns.lineplot(x='REF_DATE', y='VALUE', data=df_gat)\n",
    "plt.title('Ontario CPI over time')\n",
    "plt.show()"
   ]
  },
  {
   "cell_type": "code",
   "execution_count": null,
   "metadata": {},
   "outputs": [],
   "source": [
    "# filter data Products and product groups to All-items\n",
    "df_cad_all = df_cad[df_cad['Products and product groups'] == 'All-items']\n",
    "df_gat_all = df_gat[df_gat['Products and product groups'] == 'All-items']\n"
   ]
  }
 ],
 "metadata": {
  "kernelspec": {
   "display_name": "bigv",
   "language": "python",
   "name": "python3"
  },
  "language_info": {
   "codemirror_mode": {
    "name": "ipython",
    "version": 3
   },
   "file_extension": ".py",
   "mimetype": "text/x-python",
   "name": "python",
   "nbconvert_exporter": "python",
   "pygments_lexer": "ipython3",
   "version": "3.8.12"
  },
  "orig_nbformat": 4
 },
 "nbformat": 4,
 "nbformat_minor": 2
}
